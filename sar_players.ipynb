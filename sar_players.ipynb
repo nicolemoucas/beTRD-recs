{
 "cells": [
  {
   "cell_type": "markdown",
   "metadata": {},
   "source": [
    "# SAR Single Node on Player Mock dataset\n",
    "\n",
    "Simple Algorithm for Recommendation (SAR) to handle cold item and semi-cold user scenarios. \n",
    "\n",
    "SAR recommends items that are most ***similar*** to the ones that the user already has an existing ***affinity*** for. Two items are ***similar*** if the users that interacted with one item are also likely to have interacted with the other. A user has an ***affinity*** to an item if they have interacted with it in the past.\n",
    "\n",
    "### Advantages of SAR:\n",
    "- High accuracy for an easy to train and deploy algorithm\n",
    "- Fast training, only requiring simple counting to construct matrices used at prediction time. \n",
    "- Fast scoring, only involving multiplication of the similarity matrix with an affinity vector\n",
    "\n",
    "### Notes to use SAR properly:\n",
    "- Since it does not use item or user features, it can be at a disadvantage against algorithms that do.\n",
    "- It's memory-hungry, requiring the creation of an $mxm$ sparse square matrix (where $m$ is the number of items). This can also be a problem for many matrix factorization algorithms.\n",
    "- SAR favors an implicit rating scenario and it does not predict ratings."
   ]
  },
  {
   "cell_type": "markdown",
   "metadata": {},
   "source": [
    "## Set up"
   ]
  },
  {
   "cell_type": "code",
   "execution_count": 10,
   "metadata": {},
   "outputs": [],
   "source": [
    "import pandas as pd\n",
    "from recommenders.datasets.python_splitters import python_stratified_split\n",
    "from recommenders.models.sar import SAR\n",
    "from recommenders.utils.timer import Timer\n",
    "import logging\n",
    "import numpy as np\n",
    "import datetime as dt\n"
   ]
  },
  {
   "cell_type": "markdown",
   "metadata": {},
   "source": [
    "## 1. Load Data\n",
    "\n",
    "Each row reprensets a single interaction between a user and an item."
   ]
  },
  {
   "cell_type": "markdown",
   "metadata": {},
   "source": [
    "### 1.1 Load data"
   ]
  },
  {
   "cell_type": "code",
   "execution_count": 11,
   "metadata": {},
   "outputs": [
    {
     "name": "stdout",
     "output_type": "stream",
     "text": [
      "                                 itemId              playerName  \\\n",
      "0  d1f43d86-d060-4f8b-af61-05e949e89aec            Riyad Mahrez   \n",
      "1  9a3dc2e0-d405-48f4-82b1-c2aefeaeda1a  Trent Alexander-Arnold   \n",
      "2  dba7f29b-1ebe-48ba-bad3-95ff55a53141              Harry Kane   \n",
      "3  b8ac9683-2d09-4fe8-b656-62757f0f1f8f             Eden Hazard   \n",
      "4  d32ed43c-c75d-4b65-a08b-1d5841bc991d         Virgil van Dijk   \n",
      "\n",
      "          playerTeam playerCountry  userId userRiskType  betPlaced  betAmount  \\\n",
      "0  Borussia Dortmund         Maroc      22         High          1      52.89   \n",
      "1            Arsenal    Angleterre      23       Medium          5      33.22   \n",
      "2  Tottenham Hotspur    Angleterre      34         High          2      83.00   \n",
      "3           Juventus      Belgique      39          Low          2      60.25   \n",
      "4          Liverpool      Pays-Bas       7         High          1      56.97   \n",
      "\n",
      "             timestamp  \n",
      "0  2023-11-23 00:00:00  \n",
      "1  2024-04-02 00:00:00  \n",
      "2  2022-01-20 00:00:00  \n",
      "3  2023-06-06 00:00:00  \n",
      "4  2023-06-18 00:00:00  \n",
      "\n",
      "Number of entries in dataset: 500\n"
     ]
    }
   ],
   "source": [
    "match_df = pd.read_csv('datasets/player_data.csv')\n",
    "\n",
    "print(match_df.head())\n",
    "print('\\nNumber of entries in dataset: ' + str(len(match_df)))\n",
    "\n",
    "# top k items to recommend\n",
    "TOP_K = 10"
   ]
  },
  {
   "cell_type": "markdown",
   "metadata": {},
   "source": [
    "### 1.2 Transform data\n",
    "\n",
    "The **rating** column in our dataset is a boolean indicating wheter the user placed a bet or not, so we need to transform it into numerical ratings : 0 and 1.\n",
    "\n",
    "The **timestamp** column needs to be a numeric value, so a new column **timestamp_diff_days** with the difference of days will be added."
   ]
  },
  {
   "cell_type": "code",
   "execution_count": 12,
   "metadata": {},
   "outputs": [
    {
     "name": "stdout",
     "output_type": "stream",
     "text": [
      "                                 itemId              playerName  \\\n",
      "0  d1f43d86-d060-4f8b-af61-05e949e89aec            Riyad Mahrez   \n",
      "1  9a3dc2e0-d405-48f4-82b1-c2aefeaeda1a  Trent Alexander-Arnold   \n",
      "2  dba7f29b-1ebe-48ba-bad3-95ff55a53141              Harry Kane   \n",
      "3  b8ac9683-2d09-4fe8-b656-62757f0f1f8f             Eden Hazard   \n",
      "4  d32ed43c-c75d-4b65-a08b-1d5841bc991d         Virgil van Dijk   \n",
      "\n",
      "          playerTeam playerCountry  userId userRiskType  betPlaced  betAmount  \\\n",
      "0  Borussia Dortmund         Maroc      22         High        1.0      52.89   \n",
      "1            Arsenal    Angleterre      23       Medium        5.0      33.22   \n",
      "2  Tottenham Hotspur    Angleterre      34         High        2.0      83.00   \n",
      "3           Juventus      Belgique      39          Low        2.0      60.25   \n",
      "4          Liverpool      Pays-Bas       7         High        1.0      56.97   \n",
      "\n",
      "   timestamp  timestamp_seconds  \n",
      "0 2023-11-23         1700697600  \n",
      "1 2024-04-02         1712016000  \n",
      "2 2022-01-20         1642636800  \n",
      "3 2023-06-06         1686009600  \n",
      "4 2023-06-18         1687046400  \n",
      "itemId                       object\n",
      "playerName                   object\n",
      "playerTeam                   object\n",
      "playerCountry                object\n",
      "userId                        int64\n",
      "userRiskType                 object\n",
      "betPlaced                   float32\n",
      "betAmount                   float64\n",
      "timestamp            datetime64[ns]\n",
      "timestamp_seconds             int64\n",
      "dtype: object\n",
      "0\n"
     ]
    }
   ],
   "source": [
    "#print(match_df.head())\n",
    "epoch_time = dt.datetime(1970, 1, 1)\n",
    "\n",
    "match_df['betPlaced'] = match_df['betPlaced'].astype(np.float32)\n",
    "#match_df['betPlaced'] = match_df['betPlaced'].astype(int)\n",
    "#match_df['betPlaced'] = match_df['betPlaced'].replace({True: 1, False: -1})\n",
    "match_df['timestamp'] = pd.to_datetime(match_df['timestamp'])\n",
    "match_df['timestamp_seconds'] = match_df['timestamp'].astype('int64') // 10**9\n",
    "\n",
    "\n",
    "print(match_df.head())\n",
    "\n",
    "print(match_df.dtypes)\n",
    "\n",
    "# Check number of null lines, should be 0\n",
    "print(match_df['timestamp_seconds'].isna().sum()) "
   ]
  },
  {
   "cell_type": "markdown",
   "metadata": {},
   "source": [
    "### 1.3 Split data using python random splitter\n",
    "\n",
    "Split dataset into train and test dataset to evaluate algorithm performance.\n",
    "All users that are in th test set must also exist in the training set, so we use `python_stratified_split`. \n",
    "The function holds out a percentage (25% here) of items from each user, but ensures all users are in both `train` and `test` datasets."
   ]
  },
  {
   "cell_type": "code",
   "execution_count": 13,
   "metadata": {},
   "outputs": [],
   "source": [
    "train, test = python_stratified_split(match_df, ratio=0.75, col_user=\"userId\", col_item=\"itemId\", seed=42)"
   ]
  },
  {
   "cell_type": "code",
   "execution_count": 14,
   "metadata": {},
   "outputs": [
    {
     "name": "stdout",
     "output_type": "stream",
     "text": [
      "\n",
      "Train:\n",
      "Total Ratings: 379\n",
      "Unique Users: 40\n",
      "Unique Items: 379\n",
      "\n",
      "Test:\n",
      "Total Ratings: 121\n",
      "Unique Users: 40\n",
      "Unique Items: 121\n",
      "\n"
     ]
    }
   ],
   "source": [
    "print(\"\"\"\n",
    "Train:\n",
    "Total Ratings: {train_total}\n",
    "Unique Users: {train_users}\n",
    "Unique Items: {train_items}\n",
    "\n",
    "Test:\n",
    "Total Ratings: {test_total}\n",
    "Unique Users: {test_users}\n",
    "Unique Items: {test_items}\n",
    "\"\"\".format(\n",
    "    train_total=len(train),\n",
    "    train_users=len(train['userId'].unique()),\n",
    "    train_items=len(train['itemId'].unique()),\n",
    "    test_total=len(test),\n",
    "    test_users=len(test['userId'].unique()),\n",
    "    test_items=len(test['itemId'].unique()),\n",
    "))"
   ]
  },
  {
   "cell_type": "markdown",
   "metadata": {},
   "source": [
    "# 2. Train the SAR Model"
   ]
  },
  {
   "cell_type": "markdown",
   "metadata": {},
   "source": [
    "## 2.1 Instantiate the SAR algorithm and set the index"
   ]
  },
  {
   "cell_type": "code",
   "execution_count": 15,
   "metadata": {},
   "outputs": [],
   "source": [
    "logging.basicConfig(level=logging.DEBUG, \n",
    "                    format='%(asctime)s %(levelname)-8s %(message)s')\n",
    "\n",
    "model = SAR(\n",
    "    col_user=\"userId\",\n",
    "    col_item=\"itemId\",\n",
    "    col_rating=\"betPlaced\",\n",
    "    col_timestamp=\"timestamp_seconds\",\n",
    "    similarity_type=\"cosine\", \n",
    "    time_decay_coefficient=30, \n",
    "    timedecay_formula=True,\n",
    "    normalize=True\n",
    ")"
   ]
  },
  {
   "cell_type": "markdown",
   "metadata": {},
   "source": [
    "## 2.2 Train the SAR model on the training data, and get the top-k recommendations for the testing data\n",
    "\n",
    "SAR creates an item-to-item **co-occurence matrix** (number of times two items are together for a given user), then we compute an **item similarity matrix** by rescaling the cooccurences by given metric.\n",
    "\n",
    "We also compute an **affinity matrix** to capture the strength of the relationship between each user and each item.\n",
    "\n",
    "We get the **recommendations** by multiplying the affinity matrix and the similarity matrix."
   ]
  },
  {
   "cell_type": "code",
   "execution_count": 16,
   "metadata": {},
   "outputs": [
    {
     "name": "stderr",
     "output_type": "stream",
     "text": [
      "2024-12-04 12:45:35,174 INFO     Collecting user affinity matrix\n",
      "2024-12-04 12:45:35,175 INFO     Calculating time-decayed affinities\n",
      "2024-12-04 12:45:35,177 INFO     Creating index columns\n",
      "2024-12-04 12:45:35,178 INFO     Calculating normalization factors\n",
      "2024-12-04 12:45:35,181 INFO     Building user affinity sparse matrix\n",
      "2024-12-04 12:45:35,181 INFO     Calculating item co-occurrence\n",
      "2024-12-04 12:45:35,182 INFO     Calculating item similarity\n",
      "2024-12-04 12:45:35,182 INFO     Using cosine similarity\n",
      "2024-12-04 12:45:35,184 INFO     Done training\n"
     ]
    },
    {
     "name": "stdout",
     "output_type": "stream",
     "text": [
      "Training finished in 0.012018958000005853 seconds.\n"
     ]
    }
   ],
   "source": [
    "with Timer() as train_time:\n",
    "    model.fit(train)\n",
    "\n",
    "print(\"Training finished in {} seconds.\".format(train_time.interval))"
   ]
  },
  {
   "cell_type": "code",
   "execution_count": 17,
   "metadata": {},
   "outputs": [
    {
     "name": "stderr",
     "output_type": "stream",
     "text": [
      "2024-12-04 12:45:35,189 INFO     Calculating recommendation scores\n",
      "2024-12-04 12:45:35,191 INFO     Removing seen items\n"
     ]
    },
    {
     "name": "stdout",
     "output_type": "stream",
     "text": [
      "Prediction finished in 0.004530417000005116 seconds.\n"
     ]
    }
   ],
   "source": [
    "with Timer() as test_time:\n",
    "    top_k = model.recommend_k_items(test, top_k=TOP_K, remove_seen=True)\n",
    "\n",
    "print(\"Prediction finished in {} seconds.\".format(test_time.interval))"
   ]
  },
  {
   "cell_type": "code",
   "execution_count": 18,
   "metadata": {},
   "outputs": [
    {
     "data": {
      "text/html": [
       "<div>\n",
       "<style scoped>\n",
       "    .dataframe tbody tr th:only-of-type {\n",
       "        vertical-align: middle;\n",
       "    }\n",
       "\n",
       "    .dataframe tbody tr th {\n",
       "        vertical-align: top;\n",
       "    }\n",
       "\n",
       "    .dataframe thead th {\n",
       "        text-align: right;\n",
       "    }\n",
       "</style>\n",
       "<table border=\"1\" class=\"dataframe\">\n",
       "  <thead>\n",
       "    <tr style=\"text-align: right;\">\n",
       "      <th></th>\n",
       "      <th>userId</th>\n",
       "      <th>itemId</th>\n",
       "      <th>prediction</th>\n",
       "    </tr>\n",
       "  </thead>\n",
       "  <tbody>\n",
       "    <tr>\n",
       "      <th>0</th>\n",
       "      <td>1</td>\n",
       "      <td>37f12a4f-9e3f-440e-bf06-fc1e70264752</td>\n",
       "      <td>1.791551e-11</td>\n",
       "    </tr>\n",
       "    <tr>\n",
       "      <th>1</th>\n",
       "      <td>1</td>\n",
       "      <td>0c174fe6-c5f3-4180-800c-93c8737777c7</td>\n",
       "      <td>1.791551e-11</td>\n",
       "    </tr>\n",
       "    <tr>\n",
       "      <th>2</th>\n",
       "      <td>1</td>\n",
       "      <td>8304ea3e-2c7b-4a1a-8bce-4450ca9f40ac</td>\n",
       "      <td>1.791551e-11</td>\n",
       "    </tr>\n",
       "    <tr>\n",
       "      <th>3</th>\n",
       "      <td>1</td>\n",
       "      <td>6cae5b00-ddb8-4953-84a6-a75dc05ec493</td>\n",
       "      <td>1.791551e-11</td>\n",
       "    </tr>\n",
       "    <tr>\n",
       "      <th>4</th>\n",
       "      <td>1</td>\n",
       "      <td>bc9d5aaf-9d2d-4e87-8717-06770a48076e</td>\n",
       "      <td>1.791551e-11</td>\n",
       "    </tr>\n",
       "    <tr>\n",
       "      <th>...</th>\n",
       "      <td>...</td>\n",
       "      <td>...</td>\n",
       "      <td>...</td>\n",
       "    </tr>\n",
       "    <tr>\n",
       "      <th>395</th>\n",
       "      <td>40</td>\n",
       "      <td>6cae5b00-ddb8-4953-84a6-a75dc05ec493</td>\n",
       "      <td>1.791551e-11</td>\n",
       "    </tr>\n",
       "    <tr>\n",
       "      <th>396</th>\n",
       "      <td>40</td>\n",
       "      <td>688bbdaf-4dcf-4d4a-9425-8eb11b8e97ae</td>\n",
       "      <td>1.791551e-11</td>\n",
       "    </tr>\n",
       "    <tr>\n",
       "      <th>397</th>\n",
       "      <td>40</td>\n",
       "      <td>79148248-f97d-49eb-ad26-6326bbf4bf09</td>\n",
       "      <td>1.791551e-11</td>\n",
       "    </tr>\n",
       "    <tr>\n",
       "      <th>398</th>\n",
       "      <td>40</td>\n",
       "      <td>37f12a4f-9e3f-440e-bf06-fc1e70264752</td>\n",
       "      <td>1.791551e-11</td>\n",
       "    </tr>\n",
       "    <tr>\n",
       "      <th>399</th>\n",
       "      <td>40</td>\n",
       "      <td>e81357e5-b97a-48a4-aa38-0eea2347b0e8</td>\n",
       "      <td>1.791551e-11</td>\n",
       "    </tr>\n",
       "  </tbody>\n",
       "</table>\n",
       "<p>400 rows × 3 columns</p>\n",
       "</div>"
      ],
      "text/plain": [
       "     userId                                itemId    prediction\n",
       "0         1  37f12a4f-9e3f-440e-bf06-fc1e70264752  1.791551e-11\n",
       "1         1  0c174fe6-c5f3-4180-800c-93c8737777c7  1.791551e-11\n",
       "2         1  8304ea3e-2c7b-4a1a-8bce-4450ca9f40ac  1.791551e-11\n",
       "3         1  6cae5b00-ddb8-4953-84a6-a75dc05ec493  1.791551e-11\n",
       "4         1  bc9d5aaf-9d2d-4e87-8717-06770a48076e  1.791551e-11\n",
       "..      ...                                   ...           ...\n",
       "395      40  6cae5b00-ddb8-4953-84a6-a75dc05ec493  1.791551e-11\n",
       "396      40  688bbdaf-4dcf-4d4a-9425-8eb11b8e97ae  1.791551e-11\n",
       "397      40  79148248-f97d-49eb-ad26-6326bbf4bf09  1.791551e-11\n",
       "398      40  37f12a4f-9e3f-440e-bf06-fc1e70264752  1.791551e-11\n",
       "399      40  e81357e5-b97a-48a4-aa38-0eea2347b0e8  1.791551e-11\n",
       "\n",
       "[400 rows x 3 columns]"
      ]
     },
     "execution_count": 18,
     "metadata": {},
     "output_type": "execute_result"
    }
   ],
   "source": [
    "top_k"
   ]
  },
  {
   "cell_type": "markdown",
   "metadata": {},
   "source": [
    "## 2.3 Evaluate performance\n"
   ]
  },
  {
   "cell_type": "code",
   "execution_count": null,
   "metadata": {},
   "outputs": [],
   "source": []
  }
 ],
 "metadata": {
  "kernelspec": {
   "display_name": "betrd_env",
   "language": "python",
   "name": "python3"
  },
  "language_info": {
   "codemirror_mode": {
    "name": "ipython",
    "version": 3
   },
   "file_extension": ".py",
   "mimetype": "text/x-python",
   "name": "python",
   "nbconvert_exporter": "python",
   "pygments_lexer": "ipython3",
   "version": "3.9.18"
  }
 },
 "nbformat": 4,
 "nbformat_minor": 2
}
