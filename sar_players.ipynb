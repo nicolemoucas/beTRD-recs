{
 "cells": [
  {
   "cell_type": "markdown",
   "metadata": {},
   "source": [
    "# SAR Single Node on Player Mock dataset\n",
    "\n",
    "Simple Algorithm for Recommendation (SAR) to handle cold item and semi-cold user scenarios. \n",
    "\n",
    "SAR recommends items that are most ***similar*** to the ones that the user already has an existing ***affinity*** for. Two items are ***similar*** if the users that interacted with one item are also likely to have interacted with the other. A user has an ***affinity*** to an item if they have interacted with it in the past.\n",
    "\n",
    "### Advantages of SAR:\n",
    "- High accuracy for an easy to train and deploy algorithm\n",
    "- Fast training, only requiring simple counting to construct matrices used at prediction time. \n",
    "- Fast scoring, only involving multiplication of the similarity matrix with an affinity vector\n",
    "\n",
    "### Notes to use SAR properly:\n",
    "- Since it does not use item or user features, it can be at a disadvantage against algorithms that do.\n",
    "- It's memory-hungry, requiring the creation of an $mxm$ sparse square matrix (where $m$ is the number of items). This can also be a problem for many matrix factorization algorithms.\n",
    "- SAR favors an implicit rating scenario and it does not predict ratings."
   ]
  },
  {
   "cell_type": "markdown",
   "metadata": {},
   "source": [
    "## Set up"
   ]
  },
  {
   "cell_type": "code",
   "execution_count": 1,
   "metadata": {},
   "outputs": [],
   "source": [
    "import pandas as pd\n",
    "from recommenders.datasets.python_splitters import python_stratified_split\n",
    "from recommenders.models.sar import SAR\n",
    "from recommenders.utils.timer import Timer\n",
    "import logging\n",
    "import numpy as np\n",
    "import datetime as dt\n"
   ]
  },
  {
   "cell_type": "markdown",
   "metadata": {},
   "source": [
    "## 1. Load Data\n",
    "\n",
    "Each row reprensets a single interaction between a user and an item."
   ]
  },
  {
   "cell_type": "markdown",
   "metadata": {},
   "source": [
    "### 1.1 Load data"
   ]
  },
  {
   "cell_type": "code",
   "execution_count": 2,
   "metadata": {},
   "outputs": [
    {
     "name": "stdout",
     "output_type": "stream",
     "text": [
      "   itemId  userId  rating            timestamp       playerName  \\\n",
      "0      31     425       2  2015-11-20 07:29:05  Bruno Fernandes   \n",
      "1      10     145       3  2011-06-17 20:09:38       Harry Kane   \n",
      "2      34     761       3  2014-05-09 03:59:06       Harry Kane   \n",
      "3       7     681       4  2018-02-08 14:50:37     Sergio Ramos   \n",
      "4      26     940       1  2011-05-05 12:10:27     Riyad Mahrez   \n",
      "\n",
      "           playerTeam playerCountry  \n",
      "0             Udinese      Portugal  \n",
      "1   Tottenham Hotspur    Angleterre  \n",
      "2  Ridgeway Rovers FC    Angleterre  \n",
      "3         Real Madrid       Espagne  \n",
      "4            Le Havre         Maroc  \n",
      "\n",
      "Number of entries in dataset: 50000\n"
     ]
    }
   ],
   "source": [
    "match_df = pd.read_csv('datasets/player_data.csv')\n",
    "\n",
    "print(match_df.head())\n",
    "print('\\nNumber of entries in dataset: ' + str(len(match_df)))\n",
    "\n",
    "# top k items to recommend\n",
    "TOP_K = 10"
   ]
  },
  {
   "cell_type": "markdown",
   "metadata": {},
   "source": [
    "### 1.2 Transform data\n",
    "\n",
    "The **rating** column in our dataset is a boolean indicating wheter the user placed a bet or not, so we need to transform it into numerical ratings : 0 and 1.\n",
    "\n",
    "The **timestamp** column needs to be a numeric value, so a new column **timestamp_diff_days** with the difference of days will be added."
   ]
  },
  {
   "cell_type": "code",
   "execution_count": 3,
   "metadata": {},
   "outputs": [
    {
     "name": "stdout",
     "output_type": "stream",
     "text": [
      "   itemId  userId  rating           timestamp       playerName  \\\n",
      "0      31     425       2 2015-11-20 07:29:05  Bruno Fernandes   \n",
      "1      10     145       3 2011-06-17 20:09:38       Harry Kane   \n",
      "2      34     761       3 2014-05-09 03:59:06       Harry Kane   \n",
      "3       7     681       4 2018-02-08 14:50:37     Sergio Ramos   \n",
      "4      26     940       1 2011-05-05 12:10:27     Riyad Mahrez   \n",
      "\n",
      "           playerTeam playerCountry  timestamp_seconds  \n",
      "0             Udinese      Portugal         1448004545  \n",
      "1   Tottenham Hotspur    Angleterre         1308341378  \n",
      "2  Ridgeway Rovers FC    Angleterre         1399607946  \n",
      "3         Real Madrid       Espagne         1518101437  \n",
      "4            Le Havre         Maroc         1304597427  \n",
      "itemId                        int64\n",
      "userId                        int64\n",
      "rating                        int64\n",
      "timestamp            datetime64[ns]\n",
      "playerName                   object\n",
      "playerTeam                   object\n",
      "playerCountry                object\n",
      "timestamp_seconds             int64\n",
      "dtype: object\n",
      "0\n"
     ]
    }
   ],
   "source": [
    "#print(match_df.head())\n",
    "epoch_time = dt.datetime(1970, 1, 1)\n",
    "\n",
    "#match_df['betPlaced'] = match_df['betPlaced'].astype(np.float32)\n",
    "#match_df['betPlaced'] = match_df['betPlaced'].astype(int)\n",
    "#match_df['betPlaced'] = match_df['betPlaced'].replace({True: 1, False: -1})\n",
    "match_df['timestamp'] = pd.to_datetime(match_df['timestamp'])\n",
    "match_df['timestamp_seconds'] = match_df['timestamp'].astype('int64') // 10**9\n",
    "\n",
    "\n",
    "print(match_df.head())\n",
    "\n",
    "print(match_df.dtypes)\n",
    "\n",
    "# Check number of null lines, should be 0\n",
    "print(match_df['timestamp_seconds'].isna().sum()) "
   ]
  },
  {
   "cell_type": "markdown",
   "metadata": {},
   "source": [
    "### 1.3 Split data using python random splitter\n",
    "\n",
    "Split dataset into train and test dataset to evaluate algorithm performance.\n",
    "All users that are in th test set must also exist in the training set, so we use `python_stratified_split`. \n",
    "The function holds out a percentage (25% here) of items from each user, but ensures all users are in both `train` and `test` datasets."
   ]
  },
  {
   "cell_type": "code",
   "execution_count": 4,
   "metadata": {},
   "outputs": [],
   "source": [
    "train, test = python_stratified_split(match_df, ratio=0.75, col_user=\"userId\", col_item=\"itemId\", seed=42)"
   ]
  },
  {
   "cell_type": "code",
   "execution_count": 5,
   "metadata": {},
   "outputs": [
    {
     "name": "stdout",
     "output_type": "stream",
     "text": [
      "\n",
      "Train:\n",
      "Total Ratings: 37503\n",
      "Unique Users: 1000\n",
      "Unique Items: 51\n",
      "\n",
      "Test:\n",
      "Total Ratings: 12497\n",
      "Unique Users: 1000\n",
      "Unique Items: 51\n",
      "\n"
     ]
    }
   ],
   "source": [
    "print(\"\"\"\n",
    "Train:\n",
    "Total Ratings: {train_total}\n",
    "Unique Users: {train_users}\n",
    "Unique Items: {train_items}\n",
    "\n",
    "Test:\n",
    "Total Ratings: {test_total}\n",
    "Unique Users: {test_users}\n",
    "Unique Items: {test_items}\n",
    "\"\"\".format(\n",
    "    train_total=len(train),\n",
    "    train_users=len(train['userId'].unique()),\n",
    "    train_items=len(train['itemId'].unique()),\n",
    "    test_total=len(test),\n",
    "    test_users=len(test['userId'].unique()),\n",
    "    test_items=len(test['itemId'].unique()),\n",
    "))"
   ]
  },
  {
   "cell_type": "markdown",
   "metadata": {},
   "source": [
    "# 2. Train the SAR Model"
   ]
  },
  {
   "cell_type": "markdown",
   "metadata": {},
   "source": [
    "## 2.1 Instantiate the SAR algorithm and set the index"
   ]
  },
  {
   "cell_type": "code",
   "execution_count": 6,
   "metadata": {},
   "outputs": [],
   "source": [
    "logging.basicConfig(level=logging.DEBUG, \n",
    "                    format='%(asctime)s %(levelname)-8s %(message)s')\n",
    "\n",
    "model = SAR(\n",
    "    col_user=\"userId\",\n",
    "    col_item=\"itemId\",\n",
    "    col_rating=\"rating\",\n",
    "    col_timestamp=\"timestamp_seconds\",\n",
    "    similarity_type=\"cosine\", \n",
    "    time_decay_coefficient=30, \n",
    "    timedecay_formula=True,\n",
    "    normalize=True\n",
    ")"
   ]
  },
  {
   "cell_type": "markdown",
   "metadata": {},
   "source": [
    "## 2.2 Train the SAR model on the training data, and get the top-k recommendations for the testing data\n",
    "\n",
    "SAR creates an item-to-item **co-occurence matrix** (number of times two items are together for a given user), then we compute an **item similarity matrix** by rescaling the cooccurences by given metric.\n",
    "\n",
    "We also compute an **affinity matrix** to capture the strength of the relationship between each user and each item.\n",
    "\n",
    "We get the **recommendations** by multiplying the affinity matrix and the similarity matrix."
   ]
  },
  {
   "cell_type": "code",
   "execution_count": 7,
   "metadata": {},
   "outputs": [
    {
     "name": "stderr",
     "output_type": "stream",
     "text": [
      "2025-01-28 19:55:27,004 INFO     Collecting user affinity matrix\n",
      "2025-01-28 19:55:27,007 INFO     Calculating time-decayed affinities\n",
      "2025-01-28 19:55:27,012 INFO     Creating index columns\n",
      "2025-01-28 19:55:27,026 INFO     Calculating normalization factors\n",
      "2025-01-28 19:55:27,032 INFO     Building user affinity sparse matrix\n",
      "2025-01-28 19:55:27,033 INFO     Calculating item co-occurrence\n",
      "2025-01-28 19:55:27,037 INFO     Calculating item similarity\n",
      "2025-01-28 19:55:27,037 INFO     Using cosine similarity\n",
      "2025-01-28 19:55:27,038 INFO     Done training\n"
     ]
    },
    {
     "name": "stdout",
     "output_type": "stream",
     "text": [
      "Training finished in 0.038646250000000215 seconds.\n"
     ]
    }
   ],
   "source": [
    "with Timer() as train_time:\n",
    "    model.fit(train)\n",
    "\n",
    "print(\"Training finished in {} seconds.\".format(train_time.interval))"
   ]
  },
  {
   "cell_type": "code",
   "execution_count": 8,
   "metadata": {},
   "outputs": [
    {
     "name": "stderr",
     "output_type": "stream",
     "text": [
      "2025-01-28 19:55:27,045 INFO     Calculating recommendation scores\n",
      "2025-01-28 19:55:27,049 INFO     Removing seen items\n"
     ]
    },
    {
     "name": "stdout",
     "output_type": "stream",
     "text": [
      "Prediction finished in 0.010301082999999878 seconds.\n"
     ]
    }
   ],
   "source": [
    "with Timer() as test_time:\n",
    "    top_k = model.recommend_k_items(test, top_k=TOP_K, remove_seen=True)\n",
    "\n",
    "print(\"Prediction finished in {} seconds.\".format(test_time.interval))"
   ]
  },
  {
   "cell_type": "code",
   "execution_count": 9,
   "metadata": {},
   "outputs": [
    {
     "data": {
      "text/html": [
       "<div>\n",
       "<style scoped>\n",
       "    .dataframe tbody tr th:only-of-type {\n",
       "        vertical-align: middle;\n",
       "    }\n",
       "\n",
       "    .dataframe tbody tr th {\n",
       "        vertical-align: top;\n",
       "    }\n",
       "\n",
       "    .dataframe thead th {\n",
       "        text-align: right;\n",
       "    }\n",
       "</style>\n",
       "<table border=\"1\" class=\"dataframe\">\n",
       "  <thead>\n",
       "    <tr style=\"text-align: right;\">\n",
       "      <th></th>\n",
       "      <th>userId</th>\n",
       "      <th>itemId</th>\n",
       "      <th>prediction</th>\n",
       "    </tr>\n",
       "  </thead>\n",
       "  <tbody>\n",
       "    <tr>\n",
       "      <th>0</th>\n",
       "      <td>1</td>\n",
       "      <td>40</td>\n",
       "      <td>0.006915</td>\n",
       "    </tr>\n",
       "    <tr>\n",
       "      <th>1</th>\n",
       "      <td>1</td>\n",
       "      <td>24</td>\n",
       "      <td>0.006845</td>\n",
       "    </tr>\n",
       "    <tr>\n",
       "      <th>2</th>\n",
       "      <td>1</td>\n",
       "      <td>37</td>\n",
       "      <td>0.006825</td>\n",
       "    </tr>\n",
       "    <tr>\n",
       "      <th>3</th>\n",
       "      <td>1</td>\n",
       "      <td>31</td>\n",
       "      <td>0.006718</td>\n",
       "    </tr>\n",
       "    <tr>\n",
       "      <th>4</th>\n",
       "      <td>1</td>\n",
       "      <td>49</td>\n",
       "      <td>0.006699</td>\n",
       "    </tr>\n",
       "    <tr>\n",
       "      <th>...</th>\n",
       "      <td>...</td>\n",
       "      <td>...</td>\n",
       "      <td>...</td>\n",
       "    </tr>\n",
       "    <tr>\n",
       "      <th>9995</th>\n",
       "      <td>1000</td>\n",
       "      <td>37</td>\n",
       "      <td>0.017010</td>\n",
       "    </tr>\n",
       "    <tr>\n",
       "      <th>9996</th>\n",
       "      <td>1000</td>\n",
       "      <td>2</td>\n",
       "      <td>0.016829</td>\n",
       "    </tr>\n",
       "    <tr>\n",
       "      <th>9997</th>\n",
       "      <td>1000</td>\n",
       "      <td>27</td>\n",
       "      <td>0.016825</td>\n",
       "    </tr>\n",
       "    <tr>\n",
       "      <th>9998</th>\n",
       "      <td>1000</td>\n",
       "      <td>9</td>\n",
       "      <td>0.016796</td>\n",
       "    </tr>\n",
       "    <tr>\n",
       "      <th>9999</th>\n",
       "      <td>1000</td>\n",
       "      <td>13</td>\n",
       "      <td>0.016674</td>\n",
       "    </tr>\n",
       "  </tbody>\n",
       "</table>\n",
       "<p>10000 rows × 3 columns</p>\n",
       "</div>"
      ],
      "text/plain": [
       "      userId  itemId  prediction\n",
       "0          1      40    0.006915\n",
       "1          1      24    0.006845\n",
       "2          1      37    0.006825\n",
       "3          1      31    0.006718\n",
       "4          1      49    0.006699\n",
       "...      ...     ...         ...\n",
       "9995    1000      37    0.017010\n",
       "9996    1000       2    0.016829\n",
       "9997    1000      27    0.016825\n",
       "9998    1000       9    0.016796\n",
       "9999    1000      13    0.016674\n",
       "\n",
       "[10000 rows x 3 columns]"
      ]
     },
     "execution_count": 9,
     "metadata": {},
     "output_type": "execute_result"
    }
   ],
   "source": [
    "top_k"
   ]
  },
  {
   "cell_type": "markdown",
   "metadata": {},
   "source": [
    "## 2.3 Evaluate performance\n"
   ]
  },
  {
   "cell_type": "code",
   "execution_count": 10,
   "metadata": {},
   "outputs": [],
   "source": []
  }
 ],
 "metadata": {
  "kernelspec": {
   "display_name": "betrd_kernel",
   "language": "python",
   "name": "betrd_env"
  },
  "language_info": {
   "codemirror_mode": {
    "name": "ipython",
    "version": 3
   },
   "file_extension": ".py",
   "mimetype": "text/x-python",
   "name": "python",
   "nbconvert_exporter": "python",
   "pygments_lexer": "ipython3",
   "version": "3.9.18"
  }
 },
 "nbformat": 4,
 "nbformat_minor": 2
}
